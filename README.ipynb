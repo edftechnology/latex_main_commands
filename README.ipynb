{
 "cells": [
  {
   "cell_type": "markdown",
   "metadata": {},
   "source": [
    "# Como instalar/configurar/usar o `principais comandos do LaTeX` no `Linux Ubuntu`\n",
    "\n",
    "## Resumo\n",
    "\n",
    "Neste documento estão contidos os principais comandos e configurações para configurar/instalar/usar o `principais comandos do LaTeX` no `Linux Ubuntu`.\n",
    "\n",
    "## _Abstract_\n",
    "\n",
    "_This document contains the main commands and settings for configuring/installing/use `LaTeX main commands` on `Linux Ubuntu`._ "
   ]
  },
  {
   "cell_type": "markdown",
   "metadata": {
    "vscode": {
     "languageId": "plaintext"
    }
   },
   "source": [
    "### Construído com\n",
    "\n",
    "Esta seção deve listar todas as principais estruturas/bibliotecas usadas para inicializar seu projeto, bem como a sequência de instalação. Deixe quaisquer complementos/plugins para a seção de agradecimentos. Aqui estão alguns exemplos.\n",
    "\n",
    "* [![Texlive](https://img.shields.io/badge/Texlive-3776AB?style=flat-square&logo=latex&logoColor=white)](https://tug.org/texlive/)\n",
    "\n",
    "* [![JabRef](https://img.shields.io/badge/JabRef-44A833?style=flat-square&logo=latex&logoColor=white)](https://www.jabref.org/)\n",
    "\n",
    "* [![Texstudio](https://img.shields.io/badge/Texstudio-008080?style=flat-square&logo=latex&logoColor=white)](https://www.texstudio.org/)\n",
    "\n",
    "* [![MathPix](https://img.shields.io/badge/MathPix-008080?style=flat-square&logo=MathPix&logoColor=white)](https://mathpix.com/)\n",
    "\n",
    "<p align=\"right\">(<a href=\"#readme-top\">voltar ao topo</a>)</p>\n"
   ]
  },
  {
   "cell_type": "markdown",
   "metadata": {},
   "source": [
    "## Descrição [2]\n",
    "\n",
    "### ``TeXstudio``\n",
    "\n",
    "O `TeXstudio` é um ambiente integrado de desenvolvimento (IDE) gratuito e de código aberto projetado especificamente para facilitar a criação e edição de documentos `LaTeX`, um sistema de composição tipográfica amplamente utilizado para produzir documentos científicos, acadêmicos e técnicos de alta qualidade. Com recursos como realce de sintaxe, correção automática, assistência de código e visualização em tempo real, o `TeXstudio` torna o processo de escrita e formatação de documentos `LaTeX` mais eficiente e acessível. Ele oferece uma interface amigável para a configuração de projetos, gerenciamento de bibliotecas de referências, bem como integração com o `TeX Live` e outras distribuições `LaTeX`, tornando-o uma escolha popular entre autores e pesquisadores que buscam uma ferramenta poderosa e conveniente para produzir documentos técnico-científicos de alta qualidade.\n",
    "\n"
   ]
  },
  {
   "cell_type": "markdown",
   "metadata": {
    "vscode": {
     "languageId": "plaintext"
    }
   },
   "source": [
    "## 1. Gerar a Lista de Nomenclaturas (variáveis)\n",
    "\n",
    "Para que a sua lista de nomenclaturas seja efetivamente gerada e apareça no `main_<nome_do_projeto>.pdf` você precisa:\n",
    "\n",
    "1. **Carregar o pacote e declarar a nomenclatura**: No preâmbulo do seu `main_<nome_do_projeto>.tex` inclua algo como:\n",
    "\n",
    "  ```latex\n",
    "  % no preâmbulo do main.tex\n",
    "  \\usepackage[intoc]{nomencl}   % intoc = adiciona ao sumário\n",
    "  \\makenomenclature            % gera a lista\n",
    "  ```\n",
    "  Se você já usa `\\input{preamble.tex}`, coloque essas duas linhas lá.\n",
    "\n",
    "2. **Inserir o comando de impressão**: No ponto onde você quer que apareça a lista (normalmente logo após o sumário), coloque:\n",
    "\n",
    "  ```latex\n",
    "  \\printnomenclature\n",
    "  ```\n",
    "\n",
    "3. **Limpe os arquivos auxiliares (opcional mas recomendado)**:\n",
    "\n",
    "```bash\n",
    "latexmk -C\n",
    "```\n",
    "\n",
    "4. **Compilar na ordem correta**: \n",
    "\n",
    "    Depois de rodar\n",
    "\n",
    "    ```bash\n",
    "    pdflatex -interaction=batchmode main_<nome_do_projeto>.tex\n",
    "    ```\n",
    "\n",
    "    é preciso chamar o `makeindex` para processar a nomenclatura:\n",
    "\n",
    "    ```bash\n",
    "    makeindex `main_<nome_do_projeto>`.nlo -s nomencl.ist -o `main_<nome_do_projeto>`.nls\n",
    "    ```\n",
    "    \n",
    "    e só então rodar novamente:\n",
    "\n",
    "    ```bash\n",
    "    pdflatex -interaction=batchmode main_<nome_do_projeto>.tex\n",
    "    pdflatex -interaction=batchmode main_<nome_do_projeto>.tex  % uma segunda vez garante referências corretas\n",
    "    ```\n",
    "\n",
    "Pronto — agora, repetindo o passo de `makeindex`, a sua lista deve aparecer em `main_<nome_do_projeto>.pdf`."
   ]
  },
  {
   "cell_type": "markdown",
   "metadata": {
    "vscode": {
     "languageId": "plaintext"
    }
   },
   "source": [
    "## 2. Gerar o Índice Remissivo (Index)\n",
    "\n",
    "Para que o índice remissivo (lista de palavras-chave com referência às páginas, como em livros técnicos) apareça corretamente no arquivo `main_<nome_do_projeto>.pdf`, siga os passos abaixo:\n",
    "\n",
    "1. **Carregar o pacote e ativar o índice**: No preâmbulo do seu `main_<nome_do_projeto>.tex` (ou no `preamble.tex`), inclua as seguintes linhas:\n",
    "\n",
    "  ```latex\n",
    "  \\usepackage{makeidx}  % habilita suporte ao índice\n",
    "  \\makeindex            % ativa a criação do arquivo .idx\n",
    "  ```\n",
    "\n",
    "2. **Inserir entradas para o índice**: No corpo do seu texto, marque as palavras ou termos que devem aparecer no índice com o comando:\n",
    "\n",
    "  ```latex\n",
    "  \\index{palavra-chave}\n",
    "  ```\n",
    "\n",
    "  Exemplos:\n",
    "\n",
    "  ```latex\n",
    "  O número de Mach\\index{número de Mach} é fundamental no escoamento compressível.\n",
    "  O programa RPA\\index{RPA} é utilizado para análise de motores foguetes.\n",
    "  ```\n",
    "  \n",
    "  Você também pode usar índices hierárquicos, do tipo:\n",
    "\n",
    "  ```latex\n",
    "  \\index{combustão!pré-misturada}\n",
    "  \\index{combustão!estequiométrica}\n",
    "  ```\n",
    "\n",
    "3. **Inserir o índice no documento**: No ponto onde você deseja que o índice seja impresso (normalmente ao final do documento), adicione:\n",
    "\n",
    "  ```latex\n",
    "  \\cleardoublepage\n",
    "  \\phantomsection\n",
    "  \\addcontentsline{toc}{section}{Índice Remissivo}\n",
    "  \\printindex\n",
    "  ```\n",
    "\n",
    "4. **Limpe os arquivos auxiliares (opcional mas recomendado)**:\n",
    "\n",
    "```bash\n",
    "latexmk -C\n",
    "```\n",
    "\n",
    "5. **Compilar na ordem correta**: Compile o documento usando a seguinte sequência de comandos:\n",
    "\n",
    "  ```bash\n",
    "  pdflatex -interaction=batchmode main_<nome_do_projeto>.tex\n",
    "  bibtex main_<nome_do_projeto>.tex\n",
    "  makeindex main_<nome_do_projeto>.idx\n",
    "  makeindex main_<nome_do_projeto>.nlo -s nomencl.ist -o main_<nome_do_projeto>.nls\n",
    "  pdflatex -interaction=batchmode main_<nome_do_projeto>.tex\n",
    "  pdflatex -interaction=batchmode main_<nome_do_projeto>.tex\n",
    "  ```\n",
    "\n",
    "Pronto! Agora, o índice remissivo será gerado e aparecerá corretamente no final do seu `main_<nome_do_projeto>.pdf`.\n",
    "\n",
    "> **Obs.**: Para garantir que o índice apareça no sumário, é importante usar `\\addcontentsline` como mostrado acima. Se estiver usando a classe `book` ou `abntex2`, o comando pode ser adaptado para `\\chapter*{Índice Remissivo}` ou `\\section*{Índice Remissivo}`, conforme a estrutura do documento."
   ]
  },
  {
   "cell_type": "markdown",
   "metadata": {
    "vscode": {
     "languageId": "plaintext"
    }
   },
   "source": [
    "## 3. Como compilar\n",
    "\n",
    "1. **Limpe os arquivos auxiliares (opcional mas recomendado)**:\n",
    "\n",
    "```bash\n",
    "latexmk -C\n",
    "```\n",
    "\n",
    "2. Para que as citações apareçam corretamente, o documento precisa ser\n",
    "compilado executando o `BibTeX`. A maneira recomendada é utilizar o\n",
    "`latexmk`, que automatiza todo o processo:\n",
    "\n",
    "```bash\n",
    "latexmk -pdf -silent main_<nome_do_projeto>.tex\n",
    "```\n",
    "\n",
    "Se desejar chamar cada etapa manualmente, use a sequência abaixo:\n",
    "\n",
    "```bash\n",
    "pdflatex -interaction=batchmode main_<nome_do_projeto>.tex\n",
    "bibtex main_<nome_do_projeto>.tex\n",
    "makeindex main_<nome_do_projeto>.idx\n",
    "makeindex main_<nome_do_projeto>.nlo -s nomencl.ist -o main_<nome_do_projeto>.nls\n",
    "pdflatex -interaction=batchmode main_<nome_do_projeto>.tex\n",
    "pdflatex -interaction=batchmode main_<nome_do_projeto>.tex\n",
    "```\n",
    "\n",
    "Isso garantirá que comandos como `\\cite{Linnaeus1758}` produzam a\n",
    "referência adequada no PDF final."
   ]
  },
  {
   "cell_type": "markdown",
   "metadata": {},
   "source": [
    "### 3.1 Comando `pdflatex` com `nonstopmode`\n",
    "\n",
    "```bash\n",
    "pdflatex -synctex=1 -interaction=nonstopmode main_thesis.tex\n",
    "```\n",
    "\n",
    "- `-synctex=1`: Gera um arquivo `.synctex.gz` que permite a sincronização entre o código-fonte `.tex` e o PDF, útil em editores como TeXstudio, TeXworks, VS Code etc.\n",
    "\n",
    "- `-interaction=nonstopmode`: O LaTeX não para em erros; ele tenta compilar até o fim, ignorando erros (útil para testes rápidos).\n",
    "\n",
    "- `\"main_thesis\".tex`: Como explicado antes, está incorreto — as aspas estão no lugar errado. O correto seria `main_thesis.tex`.\n"
   ]
  },
  {
   "cell_type": "markdown",
   "metadata": {},
   "source": [
    "### 3.2 Comando `pdflatex` com `batchmode`\n",
    "\n",
    "```bash\n",
    "pdflatex -interaction=batchmode main_thesis.tex\n",
    "```\n",
    "\n",
    "- `-interaction=batchmode`: Mais silencioso ainda que `nonstopmode`. Não exibe quase nada no terminal, nem prompts de erro. Útil para compilações automatizadas (CI/CD, scripts etc.).\n",
    "\n",
    "- Não gera `.synctex.gz`, o que pode ser um problema se você usa recursos de sincronização.\n"
   ]
  },
  {
   "cell_type": "markdown",
   "metadata": {},
   "source": [
    "### 3.3 Resumo da diferença\n",
    "\n",
    "| Opção | nonstopmode | batchmode |\n",
    "|-------|-------------|-----------|\n",
    "| Exibe erros? | Sim, mas não para a compilação | Não — totalmente silencioso |\n",
    "| Gera PDF? | Sim, mesmo com erros | Sim, mas pode gerar resultado corrompido |\n",
    "| Interativo? | Não interativo | Também não interativo |\n",
    "| Usado em? | Desenvolvimento local | Scripts automáticos, CI/CD |\n",
    "| `-synctex`? | Compatível com sincronização de editores | — |\n"
   ]
  },
  {
   "cell_type": "markdown",
   "metadata": {},
   "source": [
    "### 3.4 Compilar de maneira genérica a partir da palavra-chave `main` ou outra\n",
    "\n",
    "#### 3.4.1 Compilar o primeiro arquivo que bate com `main*.tex`\n",
    "\n",
    "```bash\n",
    "pdflatex -synctex=1 -interaction=batchmode $(ls main*.tex | head -n 1)\n",
    "```\n",
    "\n",
    "Esse comando:\n",
    "- Encontra o primeiro arquivo com `main*.tex`.\n",
    "- Usa ele como entrada para o `pdflatex`.\n"
   ]
  },
  {
   "cell_type": "markdown",
   "metadata": {},
   "source": [
    "#### 3.4.2 Compilar todos os arquivos que casam com o padrão\n",
    "\n",
    "```bash\n",
    "for file in main*.tex; do\n",
    "  pdflatex -synctex=1 -interaction=batchmode \"$file\"\n",
    "done\n",
    "```\n",
    "\n",
    "Isso compila todos os arquivos `main*.tex` um por um.\n"
   ]
  },
  {
   "cell_type": "markdown",
   "metadata": {
    "vscode": {
     "languageId": "plaintext"
    }
   },
   "source": [
    "## 4. Limpar arquivos auxiliares\n",
    "\n",
    "### 4.1 Limpar arquivos auxiliares de um `.tex` específico\n",
    "\n",
    "1. O `latexmk` é um _wrapper_ para o LaTeX e tem a opção -c para limpar auxiliares:\n",
    "\n",
    "```bash\n",
    "latexmk -c main.tex\n",
    "```\n",
    "\n",
    "Isso apaga `.aux`, `.log`, `.toc`,`etc.`, mas mantém o `.pdf`.\n",
    "\n"
   ]
  },
  {
   "cell_type": "markdown",
   "metadata": {},
   "source": [
    "### 4.2 Limpar arquivos auxiliares, inclusive o `.pdf`, de um `.tex` específico\n",
    "\n",
    "1. Se quiser limpar tudo, incluindo o PDF:\n",
    "\n",
    "```bash\n",
    "latexmk -C main.tex\n",
    "```\n"
   ]
  },
  {
   "cell_type": "markdown",
   "metadata": {},
   "source": [
    "### 4.3 Limpar todos os arquivos auxiliares de todos os arquivos `.tex`\n",
    "\n",
    "1. Para limpar todos os arquivos auxiliares de todos os arquivos `.tex`, execute:\n",
    "\n",
    "```bash\n",
    "latexmk -C\n",
    "```\n",
    "\n",
    "Ele remove todos os arquivos auxiliares gerados pelo processo de compilação (`.aux`, `.log`, `.toc`, `.out`, `.bbl`, `.blg`, `.fls`, `.fdb_latexmk` etc.), mas mantém o PDF final.\n",
    "\n"
   ]
  },
  {
   "cell_type": "markdown",
   "metadata": {},
   "source": [
    "### 4.4 Remover também o PDF e saídas finais\n",
    "\n",
    "Se quiser remover também o PDF e saídas finais (além dos auxiliares), aí você usaria:\n",
    "\n",
    "```bash\n",
    "latexmk -CA\n",
    "```\n",
    "\n",
    "- `C`: limpa só os auxiliares.\n",
    "\n",
    "- `CA`: limpa tudo (incluindo PDF, PS, DVI)."
   ]
  },
  {
   "cell_type": "markdown",
   "metadata": {
    "vscode": {
     "languageId": "plaintext"
    }
   },
   "source": [
    "# 4.5 Resumo de como limpar arquivos auxiliares\n",
    "\n",
    "| Comando | O que faz |\n",
    "|---------|-----------|\n",
    "| `latexmk -c main.tex` | Remove apenas os arquivos auxiliares (`.aux`, `.log`, `.toc`, `.out`, `.bbl`, `.blg`, `.fls`, `.fdb_latexmk`, etc.), \n",
    "\n",
    "**mantém o PDF**. |\n",
    "\n",
    "| `latexmk -C main.tex` | Remove **todos os arquivos auxiliares** (mesmos do `-c`) e **mantém o PDF**. |\n",
    "| `latexmk -C` | Mesmo efeito do anterior, mas aplicado ao projeto inteiro (sem especificar o `.tex`). |\n",
    "| `latexmk -CA main.tex` | Remove **todos os auxiliares** **e também** o PDF, PS e DVI. |\n",
    "| `latexmk -CA` | Idem acima, mas aplicado ao projeto inteiro. |\n",
    "\n",
    "**Resumo rápido**\n",
    "\n",
    "- `-c` → limpa auxiliares.\n",
    "\n",
    "- `-C` → limpa auxiliares (mais agressivo) mas mantém o PDF.\n",
    "\n",
    "- `-CA` → limpa tudo, inclusive o PDF.  "
   ]
  },
  {
   "cell_type": "markdown",
   "metadata": {},
   "source": [
    "# 5. Resumo\n",
    "\n",
    "* `pdflatex -interaction=batchmode main_<nome_do_projeto>.tex` — compila o projeto.\n",
    "\n",
    "* `makeindex main_<nome_do_projeto>.nlo -s nomencl.ist -o main_<nome_do_projeto>.nls` — gera a lista de nomenclaturas.\n",
    "\n",
    "* `makeindex main_<nome_do_projeto>.idx` — processa o índice remissivo.\n",
    "\n",
    "* `pdflatex -synctex=1 -interaction=batchmode $(ls main*.tex | head -n 1)` — compila o primeiro `main*.tex`.\n",
    "\n",
    "* `for file in main*.tex; do pdflatex -synctex=1 -interaction=batchmode \"$file\"; done` — compila todos os arquivos `main*.tex`.\n",
    "\n",
    "* `latexmk -c main.tex` — remove arquivos auxiliares e mantém o PDF.\n",
    "\n",
    "* `latexmk -C main.tex` — remove todos os auxiliares e mantém o PDF.\n",
    "\n",
    "* `latexmk -C` — limpa o projeto inteiro.\n",
    "\n",
    "* `latexmk -CA main.tex` — remove auxiliares e o PDF.\n",
    "\n",
    "* `latexmk -CA` — limpa tudo em todo o projeto.\n"
   ]
  },
  {
   "cell_type": "markdown",
   "metadata": {
    "vscode": {
     "languageId": "plaintext"
    }
   },
   "source": [
    "## Referências\n",
    "\n",
    "[1] OPENAI. ***Ativar autosave no `texstudio`.*** Disponível em: <https://chat.openai.com/c/210ca6d2-7da5-4830-890a-b8e1cb0ee7ee> (texto adaptado). ChatGPT. Acessado em: 27/11/2023 10:44.\n",
    "\n",
    "[2] OPENAI. ***Vs code: editor popular.*** Disponível em: <https://chat.openai.com/c/b640a25d-f8e3-4922-8a3b-ed74a2657e42> (texto adaptado). ChatGPT. Acessado em: 14/11/2023 18:56.\n",
    "\n",
    "[3] USER: CHANDRA HAS. ***Texstudio auto-compilation/live preview feature (latex tips)/solution-51.*** Disponível em: <https://www.youtube.com/watch?v=hO1LmNtKg1w> (texto adaptado). YouTube. Acessado em: 18/01/2024 08:46.\n"
   ]
  }
 ],
 "metadata": {
  "kernelspec": {
   "display_name": "Python 3",
   "language": "python",
   "name": "python3"
  },
  "language_info": {
   "codemirror_mode": {
    "name": "ipython",
    "version": 3
   },
   "file_extension": ".py",
   "mimetype": "text/x-python",
   "name": "python",
   "nbconvert_exporter": "python",
   "pygments_lexer": "ipython3",
   "version": "3.11.5"
  },
  "orig_nbformat": 4
 },
 "nbformat": 4,
 "nbformat_minor": 2
}
